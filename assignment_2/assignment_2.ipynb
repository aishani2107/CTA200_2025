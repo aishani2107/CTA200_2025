{
 "cells": [
  {
   "cell_type": "code",
   "execution_count": 74,
   "id": "a34a33c1",
   "metadata": {},
   "outputs": [],
   "source": [
    "def f(x):\n",
    "    \n",
    "    \"\"\" This function calculates the value of the function f(x) = x^3 - x^2 - 1.\n",
    "\n",
    "    Parameters: x ------------- int or float, the input to the function\n",
    "    Returns: x^3 - x^2 - 1 ---- int or float, function value corresponding to input\n",
    "\n",
    "    \"\"\"\n",
    "\n",
    "    if (type(x)==int) or (type(x)==float):\n",
    "        return x**3 - x**2 - 1\n",
    "    else:\n",
    "        raise ValueError(\"The input must be either an integer or a float.\")\n",
    "\n",
    "\n",
    "\n",
    "def df(x):\n",
    "    \n",
    "    \"\"\" This function calculates the value of derivative of the function f(x) = x^3 - x^2 - 1.\n",
    "\n",
    "    Parameters: x ------------- int or float, the input to the derivative function\n",
    "    Returns: 3x^2 - 2x -------- int or float, derivative function value corresponding to input\n",
    "\n",
    "    \"\"\"\n",
    "\n",
    "    if (type(x)==int) or (type(x)==float):\n",
    "        return 3*(x**2) - 2*x\n",
    "    else:\n",
    "        raise ValueError(\"The input must be either an integer or a float.\")\n",
    "    \n",
    "\n",
    "\n",
    "def newton(f, df, x0, epsilon=1e-6, max_iter=30):\n",
    "    \n",
    "    \"\"\" This function performs Newton Iteration to find the root of a function.\n",
    "    \n",
    "    Parameters:\n",
    "    f --------------- function to find root of\n",
    "    df -------------- derivative function\n",
    "    x0 -------------- int or float, input value to initialise iteration\n",
    "    epsilon --------- optional variable, margin of error to detect root\n",
    "    max_iter -------- optional variable, maximum number of times to perform Newton Iteration\n",
    "    \n",
    "    Returns:\n",
    "    xn -------------- int or float, root of provided function, if found within max_iter iterations\n",
    "    None ------------ if no root found\n",
    "    \n",
    "    \"\"\"\n",
    "    \n",
    "    i = 0\n",
    "    xn = x0\n",
    "    found_root = False\n",
    "    \n",
    "    while i < max_iter:\n",
    "        xn = xn - (f(xn)/df(xn))\n",
    "        if abs(f(xn)) < epsilon:\n",
    "            found_root = True\n",
    "            break\n",
    "        else:\n",
    "            i += 1\n",
    "    \n",
    "    if found_root:\n",
    "        print(f\"Found root in {i+1} iterations.\")\n",
    "        return xn\n",
    "    else:\n",
    "        print(\"Iteration failed.\")\n",
    "        return None\n",
    "    \n"
   ]
  },
  {
   "cell_type": "code",
   "execution_count": 75,
   "id": "b69ae074",
   "metadata": {},
   "outputs": [
    {
     "name": "stdout",
     "output_type": "stream",
     "text": [
      "Found root in 3 iterations.\n"
     ]
    },
    {
     "data": {
      "text/plain": [
       "1.4655712318780663"
      ]
     },
     "execution_count": 75,
     "metadata": {},
     "output_type": "execute_result"
    }
   ],
   "source": [
    "## attempting x0 = 1.5\n",
    "newton(f, df, 1.5)"
   ]
  },
  {
   "cell_type": "code",
   "execution_count": 76,
   "id": "1c52d991",
   "metadata": {},
   "outputs": [
    {
     "name": "stdout",
     "output_type": "stream",
     "text": [
      "Found root in 7 iterations.\n"
     ]
    },
    {
     "data": {
      "text/plain": [
       "1.4655712318772516"
      ]
     },
     "execution_count": 76,
     "metadata": {},
     "output_type": "execute_result"
    }
   ],
   "source": [
    "## attempting x0 = 4\n",
    "newton(f, df, 4)"
   ]
  },
  {
   "cell_type": "code",
   "execution_count": 77,
   "id": "8319d6e5",
   "metadata": {},
   "outputs": [
    {
     "name": "stdout",
     "output_type": "stream",
     "text": [
      "Found root in 24 iterations.\n"
     ]
    },
    {
     "data": {
      "text/plain": [
       "1.465571232065954"
      ]
     },
     "execution_count": 77,
     "metadata": {},
     "output_type": "execute_result"
    }
   ],
   "source": [
    "## attempting x0 = -2\n",
    "newton(f, df, -2)"
   ]
  },
  {
   "cell_type": "code",
   "execution_count": 78,
   "id": "0469e024",
   "metadata": {},
   "outputs": [
    {
     "name": "stdout",
     "output_type": "stream",
     "text": [
      "Iteration failed.\n"
     ]
    }
   ],
   "source": [
    "## attempting x0 = -3\n",
    "newton(f, df, -3)"
   ]
  },
  {
   "cell_type": "code",
   "execution_count": 79,
   "id": "e2e1dd84",
   "metadata": {},
   "outputs": [
    {
     "name": "stdout",
     "output_type": "stream",
     "text": [
      "Found root in 24 iterations.\n"
     ]
    },
    {
     "data": {
      "text/plain": [
       "1.465571232065954"
      ]
     },
     "execution_count": 79,
     "metadata": {},
     "output_type": "execute_result"
    }
   ],
   "source": [
    "## attempting x0 = -2, with different epsilon = 1e-8\n",
    "newton(f, df, -2, epsilon=1e-8)"
   ]
  },
  {
   "cell_type": "code",
   "execution_count": 80,
   "id": "e9d2f76b",
   "metadata": {},
   "outputs": [
    {
     "name": "stdout",
     "output_type": "stream",
     "text": [
      "Found root in 25 iterations.\n"
     ]
    },
    {
     "data": {
      "text/plain": [
       "1.4655712318767682"
      ]
     },
     "execution_count": 80,
     "metadata": {},
     "output_type": "execute_result"
    }
   ],
   "source": [
    "## attempting x0 = -2, with different epsilon = 1e-10\n",
    "newton(f, df, -2, epsilon=1e-10)"
   ]
  }
 ],
 "metadata": {
  "kernelspec": {
   "display_name": "Python 3",
   "language": "python",
   "name": "python3"
  },
  "language_info": {
   "codemirror_mode": {
    "name": "ipython",
    "version": 3
   },
   "file_extension": ".py",
   "mimetype": "text/x-python",
   "name": "python",
   "nbconvert_exporter": "python",
   "pygments_lexer": "ipython3",
   "version": "3.10.0"
  }
 },
 "nbformat": 4,
 "nbformat_minor": 5
}
